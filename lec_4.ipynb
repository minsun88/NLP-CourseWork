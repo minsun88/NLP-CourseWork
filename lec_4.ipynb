{
 "cells": [
  {
   "cell_type": "markdown",
   "metadata": {},
   "source": [
    "## NLP Lecture 4  (Sep.25)"
   ]
  },
  {
   "cell_type": "code",
   "execution_count": 11,
   "metadata": {},
   "outputs": [],
   "source": [
    "import os\n",
    "import pandas as pd"
   ]
  },
  {
   "cell_type": "code",
   "execution_count": 29,
   "metadata": {},
   "outputs": [
    {
     "name": "stdout",
     "output_type": "stream",
     "text": [
      "['fishing', '.DS_Store', 'mathematics', 'machinelearning', 'hiking']\n"
     ]
    }
   ],
   "source": [
    "the_path = '/Users/ms/Desktop/NLP-CourseWork/topics/'\n",
    "the_dirs = os.listdir(the_path)\n",
    "print (the_dirs)"
   ]
  },
  {
   "cell_type": "code",
   "execution_count": 14,
   "metadata": {},
   "outputs": [
    {
     "name": "stdout",
     "output_type": "stream",
     "text": [
      "                                        file_name    label\n",
      "0                        Fishing_121726713000.txt  fishing\n",
      "1  deep-sea-fishing-trip-tickets_121839590000.txt  fishing\n",
      "2                    fishing.htm_121656776000.txt  fishing\n",
      "3                        fishing_121854626000.txt  fishing\n",
      "4                   fishing.html_121706857000.txt  fishing\n"
     ]
    }
   ],
   "source": [
    "the_files = os.listdir(the_path + the_dirs[0])\n",
    "the_file_names = pd.DataFrame()\n",
    "for word in the_files:\n",
    "    the_file_names = the_file_names.append({'file_name': word, 'label': the_dirs[0]}, ignore_index=True)\n",
    "    \n",
    "print(the_file_names.head(5))"
   ]
  },
  {
   "cell_type": "code",
   "execution_count": 36,
   "metadata": {},
   "outputs": [],
   "source": [
    "the_text = open(the_path + the_dir + '/' + the_files[0], \"r\", encoding='ISO-8859-1')\n",
    "\n",
    "#CREATE PANDAS DATAFRAME THAT HAS 2 COLUMNS\n",
    "#ONE COLUMN IS CLEANED VERSION OF TEXT CALL IT BODY WORDS ONLY AND ONE SPACE\n",
    "#ONE COLUMN IS THE LABEL"
   ]
  },
  {
   "cell_type": "code",
   "execution_count": 51,
   "metadata": {},
   "outputs": [
    {
     "name": "stdout",
     "output_type": "stream",
     "text": [
      "                                                   0\n",
      "0  NH Hunting and Fishing Licenses | New Hampshir...\n",
      "1  JavaScript must be enabled for some features t...\n",
      "2  Migratory Bird Harvest Information Program Reg...\n",
      "3  Report a Poacher Buy Your License Events & Not...\n",
      "4                   11 Hazen Drive Concord, NH 03301\n"
     ]
    }
   ],
   "source": [
    "the_test_tmp = pd.read_csv(the_path + 'fishing/' + '3ways.html_121816046000.txt', '\\n', header=None)\n",
    "print (the_test_tmp)"
   ]
  },
  {
   "cell_type": "code",
   "execution_count": 65,
   "metadata": {},
   "outputs": [
    {
     "data": {
      "text/plain": [
       "0    NH Hunting and Fishing Licenses | New Hampshir...\n",
       "1    JavaScript must be enabled for some features t...\n",
       "2    Migratory Bird Harvest Information Program Reg...\n",
       "3    Report a Poacher Buy Your License Events & Not...\n",
       "4                     11 Hazen Drive Concord, NH 03301\n",
       "Name: 0, dtype: object"
      ]
     },
     "execution_count": 65,
     "metadata": {},
     "output_type": "execute_result"
    }
   ],
   "source": [
    "the_test_tmp.iloc[:,0]"
   ]
  },
  {
   "cell_type": "code",
   "execution_count": 67,
   "metadata": {},
   "outputs": [
    {
     "name": "stdout",
     "output_type": "stream",
     "text": [
      "NH Hunting and Fishing Licenses | New Hampshire Fish and Game Department\n",
      "JavaScript must be enabled for some features to display properly. Enable JavaScript by changing your browser options, and then try again. New Hampshire Fish and Game Department       Home Hunting and Trapping in NH Buy or Renew Your Hunting License Apprentices Baiting Wildlife Check Stations Dates and Seasons FAQs Guides Black Bear Deer Furbearers Moose Pheasant Small Game Turkey Waterfowl Hunter Education Leashed Dog Trackers Publications Report a Poacher Reports Resources Small Game Trapping Where to Hunt Where to Shoot Fishing in NH Buy or Renew Your Fishing License Baitfish Bathymetry Maps Boating in NH Dates and Seasons FAQs Fish Fact Sheets Fisheries Management Guides Hatcheries Ice Fishing Let's Go Fishing Publications Reports Resources Stocking Tournaments Trophy and Record Fish Programs Where to Fish Marine Resources Buy or Renew Your Saltwater Fishing License Recreational Saltwater Fishing Commercial Saltwater Fishing FAQs Fish Fact Sheets Great Bay National Estuarine Research Reserve Laws and Rules Licenses and Permits Projects Publications Research, Surveys and Reports Shellfishing Wildlife in NH Nongame and Endangered Wildlife Program FAQs Habitats Publications Species Occurring in NH Wildlife Management Areas Wildlife Fact Sheets OHRV in NH FAQs Registering Your OHRV Renting an OHRV Safe Riding Tips Safety Education Where to Ride Education and Training Aquatic Resources Education Becoming an Outdoors- Woman Connect Kids to Wildlife Education Centers Hunter and Trapper Courses Let's Go Fishing Program Watchable Wildlife Wildlife Education School and Community Programs Fish and Game News Sign Up for e-News Multimedia Events and Notices About Fish and Game Contact NH Fish and Game Contact a Conservation Officer Directions FAQs Fish and Game Commission Funding Hatcheries and Education Centers History of Fish and Game Jobs Law Enforcement Sign up for e-news Staff Directory Support Fish and Game Volunteers What We Do     In This Section Licensing Current License Prices FAQs Forms License Agent Listing License Requirements\n",
      "Migratory Bird Harvest Information Program Registration Point of Service License Sales Wildlife Habitat Fee   There are three ways to purchase a NH fishing or hunting license:   View all application forms Visit a local license agent\n",
      "Report a Poacher Buy Your License Events & Notices Get Outside! Jobs Landowner Relations Law Enforcement Laws and Rules Maps Multimedia Nongame and Endangered Wildlife Newsroom Publications Shop Support Volunteer Wildlife Heritage Foundation of NH Sitemap   Contact Us (603) 271-3421\n",
      "11 Hazen Drive Concord, NH 03301\n"
     ]
    }
   ],
   "source": [
    "the_test = '\\n'.join(the_test_tmp.iloc[:,0])\n",
    "print (the_test)"
   ]
  },
  {
   "cell_type": "code",
   "execution_count": null,
   "metadata": {},
   "outputs": [],
   "source": []
  }
 ],
 "metadata": {
  "kernelspec": {
   "display_name": "Python 3",
   "language": "python",
   "name": "python3"
  },
  "language_info": {
   "codemirror_mode": {
    "name": "ipython",
    "version": 3
   },
   "file_extension": ".py",
   "mimetype": "text/x-python",
   "name": "python",
   "nbconvert_exporter": "python",
   "pygments_lexer": "ipython3",
   "version": "3.7.3"
  }
 },
 "nbformat": 4,
 "nbformat_minor": 2
}
