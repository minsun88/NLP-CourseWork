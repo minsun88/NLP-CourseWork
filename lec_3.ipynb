{
 "cells": [
  {
   "cell_type": "code",
   "execution_count": 1,
   "metadata": {},
   "outputs": [
    {
     "data": {
      "text/plain": [
       "{'blue', 'green'}"
      ]
     },
     "execution_count": 1,
     "metadata": {},
     "output_type": "execute_result"
    }
   ],
   "source": [
    "set_a = set(['blue', 'green', 'violet', 'red'])\n",
    "set_b = set(['green', 'yellow', 'blue', 'orange'])\n",
    "\n",
    "set_a & set_b #intersection"
   ]
  },
  {
   "cell_type": "code",
   "execution_count": 2,
   "metadata": {},
   "outputs": [
    {
     "data": {
      "text/plain": [
       "{'blue', 'green', 'orange', 'red', 'violet', 'yellow'}"
      ]
     },
     "execution_count": 2,
     "metadata": {},
     "output_type": "execute_result"
    }
   ],
   "source": [
    "set_a | set_b"
   ]
  },
  {
   "cell_type": "code",
   "execution_count": 3,
   "metadata": {},
   "outputs": [
    {
     "data": {
      "text/plain": [
       "{'red', 'violet'}"
      ]
     },
     "execution_count": 3,
     "metadata": {},
     "output_type": "execute_result"
    }
   ],
   "source": [
    "set_a - set_b"
   ]
  },
  {
   "cell_type": "code",
   "execution_count": 4,
   "metadata": {},
   "outputs": [
    {
     "data": {
      "text/plain": [
       "{'orange', 'red', 'violet', 'yellow'}"
      ]
     },
     "execution_count": 4,
     "metadata": {},
     "output_type": "execute_result"
    }
   ],
   "source": [
    "set_a^set_b"
   ]
  },
  {
   "cell_type": "code",
   "execution_count": 6,
   "metadata": {},
   "outputs": [
    {
     "name": "stdout",
     "output_type": "stream",
     "text": [
      "2019-09-18 18:21:56.131972\n"
     ]
    }
   ],
   "source": [
    "from datetime import *\n",
    "the_datetime = datetime.now()\n",
    "print (the_datetime)"
   ]
  },
  {
   "cell_type": "code",
   "execution_count": 7,
   "metadata": {},
   "outputs": [
    {
     "name": "stdout",
     "output_type": "stream",
     "text": [
      "2019\n"
     ]
    }
   ],
   "source": [
    "the_year = the_datetime.year\n",
    "print (the_year)"
   ]
  },
  {
   "cell_type": "code",
   "execution_count": 8,
   "metadata": {},
   "outputs": [
    {
     "name": "stdout",
     "output_type": "stream",
     "text": [
      "September\n"
     ]
    }
   ],
   "source": [
    "print (the_datetime.strftime(\"%B\"))"
   ]
  },
  {
   "cell_type": "code",
   "execution_count": 9,
   "metadata": {},
   "outputs": [
    {
     "name": "stdout",
     "output_type": "stream",
     "text": [
      "Sep\n"
     ]
    }
   ],
   "source": [
    "print (the_datetime.strftime(\"%b\"))"
   ]
  },
  {
   "cell_type": "code",
   "execution_count": 10,
   "metadata": {},
   "outputs": [
    {
     "name": "stdout",
     "output_type": "stream",
     "text": [
      "Wednesday\n"
     ]
    }
   ],
   "source": [
    "print (the_datetime.strftime(\"%A\"))"
   ]
  },
  {
   "cell_type": "code",
   "execution_count": 11,
   "metadata": {},
   "outputs": [
    {
     "name": "stdout",
     "output_type": "stream",
     "text": [
      "Wed\n"
     ]
    }
   ],
   "source": [
    "print (the_datetime.strftime(\"%a\"))"
   ]
  },
  {
   "cell_type": "code",
   "execution_count": 13,
   "metadata": {},
   "outputs": [
    {
     "name": "stdout",
     "output_type": "stream",
     "text": [
      "20190918\n"
     ]
    }
   ],
   "source": [
    "print (the_datetime.strftime('%Y%m%d'))"
   ]
  },
  {
   "cell_type": "code",
   "execution_count": 23,
   "metadata": {},
   "outputs": [
    {
     "name": "stdout",
     "output_type": "stream",
     "text": [
      "2019JJ09JJ18 18:21:56\n"
     ]
    }
   ],
   "source": [
    "print (the_datetime.strftime('%Y%m/%d %H:%M:%S'))"
   ]
  },
  {
   "cell_type": "code",
   "execution_count": 15,
   "metadata": {},
   "outputs": [],
   "source": [
    "str_date = '2019-09-18 15:54:22'"
   ]
  },
  {
   "cell_type": "code",
   "execution_count": 20,
   "metadata": {},
   "outputs": [
    {
     "name": "stdout",
     "output_type": "stream",
     "text": [
      "2019-09-18 15:54:22\n",
      "<class 'datetime.datetime'>\n"
     ]
    }
   ],
   "source": [
    "str_date_conv = datetime.strptime(str_date, '%Y-%m-%d %H:%M:%S')\n",
    "print (str_date_conv)\n",
    "print (type(str_date_conv))"
   ]
  },
  {
   "cell_type": "code",
   "execution_count": 21,
   "metadata": {},
   "outputs": [
    {
     "name": "stdout",
     "output_type": "stream",
     "text": [
      "2019\n"
     ]
    }
   ],
   "source": [
    "print(str_date_conv.year)"
   ]
  },
  {
   "cell_type": "code",
   "execution_count": 24,
   "metadata": {},
   "outputs": [],
   "source": [
    "import pandas as pd\n"
   ]
  },
  {
   "cell_type": "code",
   "execution_count": 25,
   "metadata": {},
   "outputs": [],
   "source": [
    "my_df = pd.DataFrame({'int_a': [1,2,3,4,5], 'int_b': [12,14,16,18,20]})"
   ]
  },
  {
   "cell_type": "code",
   "execution_count": 26,
   "metadata": {},
   "outputs": [
    {
     "name": "stdout",
     "output_type": "stream",
     "text": [
      "<class 'pandas.core.frame.DataFrame'>\n"
     ]
    }
   ],
   "source": [
    "print (type(my_df))"
   ]
  },
  {
   "cell_type": "code",
   "execution_count": 27,
   "metadata": {},
   "outputs": [
    {
     "data": {
      "text/html": [
       "<div>\n",
       "<style scoped>\n",
       "    .dataframe tbody tr th:only-of-type {\n",
       "        vertical-align: middle;\n",
       "    }\n",
       "\n",
       "    .dataframe tbody tr th {\n",
       "        vertical-align: top;\n",
       "    }\n",
       "\n",
       "    .dataframe thead th {\n",
       "        text-align: right;\n",
       "    }\n",
       "</style>\n",
       "<table border=\"1\" class=\"dataframe\">\n",
       "  <thead>\n",
       "    <tr style=\"text-align: right;\">\n",
       "      <th></th>\n",
       "      <th>int_a</th>\n",
       "      <th>int_b</th>\n",
       "    </tr>\n",
       "  </thead>\n",
       "  <tbody>\n",
       "    <tr>\n",
       "      <th>0</th>\n",
       "      <td>1</td>\n",
       "      <td>12</td>\n",
       "    </tr>\n",
       "    <tr>\n",
       "      <th>1</th>\n",
       "      <td>2</td>\n",
       "      <td>14</td>\n",
       "    </tr>\n",
       "    <tr>\n",
       "      <th>2</th>\n",
       "      <td>3</td>\n",
       "      <td>16</td>\n",
       "    </tr>\n",
       "    <tr>\n",
       "      <th>3</th>\n",
       "      <td>4</td>\n",
       "      <td>18</td>\n",
       "    </tr>\n",
       "    <tr>\n",
       "      <th>4</th>\n",
       "      <td>5</td>\n",
       "      <td>20</td>\n",
       "    </tr>\n",
       "  </tbody>\n",
       "</table>\n",
       "</div>"
      ],
      "text/plain": [
       "   int_a  int_b\n",
       "0      1     12\n",
       "1      2     14\n",
       "2      3     16\n",
       "3      4     18\n",
       "4      5     20"
      ]
     },
     "execution_count": 27,
     "metadata": {},
     "output_type": "execute_result"
    }
   ],
   "source": [
    "my_df.head()"
   ]
  },
  {
   "cell_type": "code",
   "execution_count": 30,
   "metadata": {},
   "outputs": [
    {
     "name": "stdout",
     "output_type": "stream",
     "text": [
      "[0, 1, 2, 3, 4]\n"
     ]
    }
   ],
   "source": [
    "print (list(my_df.index))"
   ]
  },
  {
   "cell_type": "code",
   "execution_count": 32,
   "metadata": {},
   "outputs": [
    {
     "data": {
      "text/html": [
       "<div>\n",
       "<style scoped>\n",
       "    .dataframe tbody tr th:only-of-type {\n",
       "        vertical-align: middle;\n",
       "    }\n",
       "\n",
       "    .dataframe tbody tr th {\n",
       "        vertical-align: top;\n",
       "    }\n",
       "\n",
       "    .dataframe thead th {\n",
       "        text-align: right;\n",
       "    }\n",
       "</style>\n",
       "<table border=\"1\" class=\"dataframe\">\n",
       "  <thead>\n",
       "    <tr style=\"text-align: right;\">\n",
       "      <th></th>\n",
       "      <th>int_a</th>\n",
       "      <th>int_b</th>\n",
       "    </tr>\n",
       "  </thead>\n",
       "  <tbody>\n",
       "    <tr>\n",
       "      <th>0</th>\n",
       "      <td>1</td>\n",
       "      <td>12</td>\n",
       "    </tr>\n",
       "  </tbody>\n",
       "</table>\n",
       "</div>"
      ],
      "text/plain": [
       "   int_a  int_b\n",
       "0      1     12"
      ]
     },
     "execution_count": 32,
     "metadata": {},
     "output_type": "execute_result"
    }
   ],
   "source": [
    "my_df.head(1)"
   ]
  },
  {
   "cell_type": "code",
   "execution_count": 33,
   "metadata": {},
   "outputs": [
    {
     "data": {
      "text/html": [
       "<div>\n",
       "<style scoped>\n",
       "    .dataframe tbody tr th:only-of-type {\n",
       "        vertical-align: middle;\n",
       "    }\n",
       "\n",
       "    .dataframe tbody tr th {\n",
       "        vertical-align: top;\n",
       "    }\n",
       "\n",
       "    .dataframe thead th {\n",
       "        text-align: right;\n",
       "    }\n",
       "</style>\n",
       "<table border=\"1\" class=\"dataframe\">\n",
       "  <thead>\n",
       "    <tr style=\"text-align: right;\">\n",
       "      <th></th>\n",
       "      <th>int_a</th>\n",
       "      <th>int_b</th>\n",
       "    </tr>\n",
       "  </thead>\n",
       "  <tbody>\n",
       "    <tr>\n",
       "      <th>4</th>\n",
       "      <td>5</td>\n",
       "      <td>20</td>\n",
       "    </tr>\n",
       "  </tbody>\n",
       "</table>\n",
       "</div>"
      ],
      "text/plain": [
       "   int_a  int_b\n",
       "4      5     20"
      ]
     },
     "execution_count": 33,
     "metadata": {},
     "output_type": "execute_result"
    }
   ],
   "source": [
    "my_df.tail(1)"
   ]
  },
  {
   "cell_type": "code",
   "execution_count": 64,
   "metadata": {},
   "outputs": [
    {
     "name": "stdout",
     "output_type": "stream",
     "text": [
      "    c1 c2      c3  c4\n",
      "0    1  a  0.0100   1\n",
      "1    2  b  0.0400   2\n",
      "2    3  c  0.0460   3\n",
      "3    4  a  0.0680   4\n",
      "4    5  b  0.0860   5\n",
      "5    6  c  0.1040   6\n",
      "6    7  a  0.1220   7\n",
      "7    8  b  0.1400   8\n",
      "8    9  c  0.1580   9\n",
      "9   10  a  0.1760  10\n",
      "10   6  z  0.0315  11\n"
     ]
    }
   ],
   "source": [
    "the_data = pd.read_csv('C:/Users/pathouli/myStuff/academia/columbia/socialSciences/GR5067/data/l3_ex.csv')\n",
    "the_data = the_data.append({'c1': 6, 'c2': 'z', 'c3': 0.0315}, ignore_index=True)\n",
    "the_data = pd.concat([the_data, pd.DataFrame({'c4': [1,2,3,4,5,6,7,8,9,10,11]})], axis=1)#col concat\n",
    "\n",
    "print (the_data)"
   ]
  },
  {
   "cell_type": "code",
   "execution_count": 35,
   "metadata": {},
   "outputs": [
    {
     "data": {
      "text/html": [
       "<div>\n",
       "<style scoped>\n",
       "    .dataframe tbody tr th:only-of-type {\n",
       "        vertical-align: middle;\n",
       "    }\n",
       "\n",
       "    .dataframe tbody tr th {\n",
       "        vertical-align: top;\n",
       "    }\n",
       "\n",
       "    .dataframe thead th {\n",
       "        text-align: right;\n",
       "    }\n",
       "</style>\n",
       "<table border=\"1\" class=\"dataframe\">\n",
       "  <thead>\n",
       "    <tr style=\"text-align: right;\">\n",
       "      <th></th>\n",
       "      <th>c1</th>\n",
       "      <th>c2</th>\n",
       "      <th>c3</th>\n",
       "    </tr>\n",
       "  </thead>\n",
       "  <tbody>\n",
       "    <tr>\n",
       "      <th>0</th>\n",
       "      <td>1</td>\n",
       "      <td>a</td>\n",
       "      <td>0.010</td>\n",
       "    </tr>\n",
       "    <tr>\n",
       "      <th>1</th>\n",
       "      <td>2</td>\n",
       "      <td>b</td>\n",
       "      <td>0.040</td>\n",
       "    </tr>\n",
       "    <tr>\n",
       "      <th>2</th>\n",
       "      <td>3</td>\n",
       "      <td>c</td>\n",
       "      <td>0.046</td>\n",
       "    </tr>\n",
       "    <tr>\n",
       "      <th>3</th>\n",
       "      <td>4</td>\n",
       "      <td>a</td>\n",
       "      <td>0.068</td>\n",
       "    </tr>\n",
       "    <tr>\n",
       "      <th>4</th>\n",
       "      <td>5</td>\n",
       "      <td>b</td>\n",
       "      <td>0.086</td>\n",
       "    </tr>\n",
       "  </tbody>\n",
       "</table>\n",
       "</div>"
      ],
      "text/plain": [
       "   c1 c2     c3\n",
       "0   1  a  0.010\n",
       "1   2  b  0.040\n",
       "2   3  c  0.046\n",
       "3   4  a  0.068\n",
       "4   5  b  0.086"
      ]
     },
     "execution_count": 35,
     "metadata": {},
     "output_type": "execute_result"
    }
   ],
   "source": [
    "the_data.head()"
   ]
  },
  {
   "cell_type": "code",
   "execution_count": 50,
   "metadata": {},
   "outputs": [
    {
     "name": "stdout",
     "output_type": "stream",
     "text": [
      "    c1 c2     c3\n",
      "0    1  a   0.01\n",
      "1    2  b   0.04\n",
      "2    3  c  0.046\n",
      "3    4  a  0.068\n",
      "4    5  b  0.086\n",
      "5    6  c  0.104\n",
      "6    7  a  0.122\n",
      "7    8  b   0.14\n",
      "8    9  c  0.158\n",
      "9   10  a  0.176\n",
      "10   6  z  .0315\n",
      "11   6  z  .0315\n",
      "12   6  z  .0315\n",
      "13   6  z  .0315\n"
     ]
    }
   ],
   "source": []
  },
  {
   "cell_type": "code",
   "execution_count": 49,
   "metadata": {},
   "outputs": [
    {
     "data": {
      "text/html": [
       "<div>\n",
       "<style scoped>\n",
       "    .dataframe tbody tr th:only-of-type {\n",
       "        vertical-align: middle;\n",
       "    }\n",
       "\n",
       "    .dataframe tbody tr th {\n",
       "        vertical-align: top;\n",
       "    }\n",
       "\n",
       "    .dataframe thead th {\n",
       "        text-align: right;\n",
       "    }\n",
       "</style>\n",
       "<table border=\"1\" class=\"dataframe\">\n",
       "  <thead>\n",
       "    <tr style=\"text-align: right;\">\n",
       "      <th></th>\n",
       "      <th>c1</th>\n",
       "      <th>c2</th>\n",
       "      <th>c3</th>\n",
       "    </tr>\n",
       "  </thead>\n",
       "  <tbody>\n",
       "    <tr>\n",
       "      <th>0</th>\n",
       "      <td>1</td>\n",
       "      <td>a</td>\n",
       "      <td>0.01</td>\n",
       "    </tr>\n",
       "    <tr>\n",
       "      <th>1</th>\n",
       "      <td>2</td>\n",
       "      <td>b</td>\n",
       "      <td>0.04</td>\n",
       "    </tr>\n",
       "    <tr>\n",
       "      <th>2</th>\n",
       "      <td>3</td>\n",
       "      <td>c</td>\n",
       "      <td>0.046</td>\n",
       "    </tr>\n",
       "    <tr>\n",
       "      <th>3</th>\n",
       "      <td>4</td>\n",
       "      <td>a</td>\n",
       "      <td>0.068</td>\n",
       "    </tr>\n",
       "    <tr>\n",
       "      <th>4</th>\n",
       "      <td>5</td>\n",
       "      <td>b</td>\n",
       "      <td>0.086</td>\n",
       "    </tr>\n",
       "  </tbody>\n",
       "</table>\n",
       "</div>"
      ],
      "text/plain": [
       "  c1 c2     c3\n",
       "0  1  a   0.01\n",
       "1  2  b   0.04\n",
       "2  3  c  0.046\n",
       "3  4  a  0.068\n",
       "4  5  b  0.086"
      ]
     },
     "execution_count": 49,
     "metadata": {},
     "output_type": "execute_result"
    }
   ],
   "source": [
    "the_data.head()\n"
   ]
  },
  {
   "cell_type": "raw",
   "metadata": {},
   "source": []
  },
  {
   "cell_type": "code",
   "execution_count": 66,
   "metadata": {},
   "outputs": [
    {
     "name": "stdout",
     "output_type": "stream",
     "text": [
      "4\n"
     ]
    }
   ],
   "source": [
    "#lambda\n",
    "x_a = (lambda x: x*x)\n",
    "the_answer = x_a(2)\n",
    "print (the_answer)"
   ]
  },
  {
   "cell_type": "code",
   "execution_count": 67,
   "metadata": {},
   "outputs": [
    {
     "name": "stdout",
     "output_type": "stream",
     "text": [
      "20\n"
     ]
    }
   ],
   "source": [
    "x_b = (lambda x, y: x*y)\n",
    "the_answer = x_b(4,5)\n",
    "print (the_answer)"
   ]
  },
  {
   "cell_type": "code",
   "execution_count": 85,
   "metadata": {},
   "outputs": [
    {
     "name": "stdout",
     "output_type": "stream",
     "text": [
      "15\n"
     ]
    }
   ],
   "source": [
    "the_data = pd.read_csv('C:/Users/pathouli/myStuff/academia/columbia/socialSciences/GR5067/data/l3_ex.csv')\n",
    "the_data = the_data.append({'c1': 6, 'c2': 'z', 'c3': 0.0315}, ignore_index=True)\n",
    "the_data_new = pd.DataFrame(map(lambda x: (x, x*2), the_data.c1))\n",
    "#print (the_data_new)\n",
    "\n",
    "the_data_filt = pd.DataFrame(filter(lambda x: (x >= 4), the_data.c1))\n",
    "#print (the_data_filt)\n",
    "\n",
    "from functools import reduce\n",
    "the_ar = [1,2,3,4,5]\n",
    "the_data_red = reduce(lambda x, y: (x + y), the_ar)\n",
    "#print (the_data_red)\n",
    "print (sum(the_ar))"
   ]
  },
  {
   "cell_type": "code",
   "execution_count": 98,
   "metadata": {},
   "outputs": [
    {
     "name": "stdout",
     "output_type": "stream",
     "text": [
      "this natural language processing class is loads of fun!!! yeah!!\n",
      "this entire semester is packed with interesting learnings\n"
     ]
    }
   ],
   "source": [
    "f = open(r'C:\\Users\\pathouli/myStuff\\academia\\columbia\\socialSciences\\GR5067\\lectures\\l3\\example_text.txt', 'r')\n",
    "the_read = f.read()\n",
    "print (the_read)\n",
    "#for line in f:\n",
    "#    print (line, end='')\n",
    "#    print (\"test\")\n",
    "#the_read_ar = f.readlines()\n",
    "#print (the_read_ar)\n",
    "f.close()\n"
   ]
  },
  {
   "cell_type": "code",
   "execution_count": 103,
   "metadata": {},
   "outputs": [
    {
     "name": "stdout",
     "output_type": "stream",
     "text": [
      "['fishing', 'hiking', 'machinelearning', 'mathematics']\n"
     ]
    }
   ],
   "source": [
    "import os\n",
    "the_path = 'C:/Users/pathouli/myStuff/academia/columbia/socialSciences/GR5067/data/topics/'\n",
    "the_dirs = os.listdir(the_path)\n",
    "print (the_dirs)"
   ]
  },
  {
   "cell_type": "code",
   "execution_count": 110,
   "metadata": {},
   "outputs": [
    {
     "name": "stdout",
     "output_type": "stream",
     "text": [
      "                                            file_name    label\n",
      "0   0,4570,7-153-10364-34956--,00.html_12180052900...  fishing\n",
      "1                           2347.htm_121805687000.txt  fishing\n",
      "2                         3ways.html_121816046000.txt  fishing\n",
      "3   46-bait-and-tackle-palisades-park_121721321000...  fishing\n",
      "4   5-rescued-from-capsized-sport-fishing-boat-at-...  fishing\n",
      "5   a-reel-fish-story-westfield-boy-receives-award...  fishing\n",
      "6              bassmasterfantasy.com_121742967000.txt  fishing\n",
      "7   commentary-increasing-access-to-hunting-fishin...  fishing\n",
      "8      deep-sea-fishing-trip-tickets_121839590000.txt  fishing\n",
      "9                    fishandboat.com_121730870000.txt  fishing\n",
      "10       fishing-alabama-state-parks_121705279000.txt  fishing\n",
      "11                   fishing-alabama_121758955000.txt  fishing\n",
      "12                  fishing-gear.jsp_121837274000.txt  fishing\n",
      "13               fishing-in-the-city_121742451000.txt  fishing\n",
      "14                   Fishing-Reports_121810946000.txt  fishing\n",
      "15                      fishing.html_121656291000.txt  fishing\n",
      "16                      fishing.html_121706857000.txt  fishing\n",
      "17                      fishing.html_121739138000.txt  fishing\n",
      "18                      fishing.html_121740200000.txt  fishing\n",
      "19                      fishing.html_121856652000.txt  fishing\n",
      "20                       fishing.htm_121656776000.txt  fishing\n",
      "21                       fishing.htm_121722563000.txt  fishing\n",
      "22                     fishing.shtml_121657135000.txt  fishing\n",
      "23               FishingReports.aspx_121815500000.txt  fishing\n",
      "24                           Fishing_121652350000.txt  fishing\n",
      "25                           fishing_121704449000.txt  fishing\n",
      "26                           Fishing_121707997000.txt  fishing\n",
      "27                           Fishing_121726713000.txt  fishing\n",
      "28                           fishing_121733965000.txt  fishing\n",
      "29                           fishing_121735043000.txt  fishing\n",
      "..                                                ...      ...\n",
      "31                           fishing_121802129000.txt  fishing\n",
      "32                           fishing_121817428000.txt  fishing\n",
      "33                           fishing_121825818000.txt  fishing\n",
      "34                           fishing_121834620000.txt  fishing\n",
      "35                           fishing_121854626000.txt  fishing\n",
      "36                    Fishing_Planet_121724140000.txt  fishing\n",
      "37                      fishneed.htm_121706248000.txt  fishing\n",
      "38                              fish_121827061000.txt  fishing\n",
      "39                        freshwater_121727791000.txt  fishing\n",
      "40            globalfishingwatch.org_121826539000.txt  fishing\n",
      "41                          hotspots_121835964000.txt  fishing\n",
      "42                 how-to-catch-fish_121658902000.txt  fishing\n",
      "43                    idfg.idaho.gov_121807151000.txt  fishing\n",
      "44                        index.html_121750965000.txt  fishing\n",
      "45     jennettes-pier-fishing-report_121842817000.txt  fishing\n",
      "46  killing-oldest-fish-marine-reserve_12172290700...  fishing\n",
      "47       license-types-and-fees.html_121836566000.txt  fishing\n",
      "48           Old-Fishing-Store-21310_121752137000.txt  fishing\n",
      "49                       regulations_121804792000.txt  fishing\n",
      "50                   rules-regs.aspx_121753028000.txt  fishing\n",
      "51  trout-fishing-in-bergen-county-begins-saturday...  fishing\n",
      "52                  trout-where-fish_121841295000.txt  fishing\n",
      "53                     weekly-report_121748964000.txt  fishing\n",
      "54                      wgfd.wyo.gov_121854076000.txt  fishing\n",
      "55                     Where-to-Fish_121754387000.txt  fishing\n",
      "56                       wheretofish_121702777000.txt  fishing\n",
      "57                       wheretofish_121744451000.txt  fishing\n",
      "58             www.mdnr-elicense.com_121825101000.txt  fishing\n",
      "59             www.takemefishing.org_121725614000.txt  fishing\n",
      "60       www.worldfishingnetwork.com_121855705000.txt  fishing\n",
      "\n",
      "[61 rows x 2 columns]\n"
     ]
    }
   ],
   "source": [
    "the_files = os.listdir(the_path + the_dirs[0])\n",
    "the_file_names = pd.DataFrame()\n",
    "for word in the_files:\n",
    "    the_file_names = the_file_names.append({'file_name': word, 'label': the_dirs[0]}, ignore_index=True)\n",
    "    \n",
    "print(the_file_names)"
   ]
  },
  {
   "cell_type": "code",
   "execution_count": null,
   "metadata": {},
   "outputs": [],
   "source": []
  }
 ],
 "metadata": {
  "kernelspec": {
   "display_name": "Python 3",
   "language": "python",
   "name": "python3"
  },
  "language_info": {
   "codemirror_mode": {
    "name": "ipython",
    "version": 3
   },
   "file_extension": ".py",
   "mimetype": "text/x-python",
   "name": "python",
   "nbconvert_exporter": "python",
   "pygments_lexer": "ipython3",
   "version": "3.7.3"
  }
 },
 "nbformat": 4,
 "nbformat_minor": 2
}
